{
 "cells": [
  {
   "cell_type": "code",
   "execution_count": 1,
   "metadata": {},
   "outputs": [],
   "source": [
    "import numpy as np\n",
    "import matplotlib\n",
    "import pandas as pd\n",
    "from datetime import datetime\n",
    "from sklearn.model_selection import train_test_split\n",
    "from sklearn.metrics import mean_squared_error\n",
    "from sklearn.metrics import median_absolute_error\n",
    "from sklearn.metrics import mean_squared_log_error\n",
    "import joblib\n",
    "from sklearn.svm import SVC"
   ]
  },
  {
   "cell_type": "code",
   "execution_count": 2,
   "metadata": {},
   "outputs": [],
   "source": [
    "fueldata=pd.read_csv('PWR_UOX-MOX_BigDataFrame-SF-GSRC.csv')"
   ]
  },
  {
   "cell_type": "code",
   "execution_count": 3,
   "metadata": {},
   "outputs": [],
   "source": [
    "for columna in [\"Unnamed: 0\",\"reactorType\"]:\n",
    "    fueldata= fueldata.loc[:, fueldata.columns != columna] \n",
    "fueldata\n",
    "X=fueldata\n",
    "Y=fueldata[['fuelType']]\n",
    "\n",
    "for columna in ['BU', 'CT', 'IE','fuelType']:\n",
    "    X= X.loc[:, X.columns != columna] \n",
    "    X = X.loc[:, X.columns != columna]"
   ]
  },
  {
   "cell_type": "code",
   "execution_count": 4,
   "metadata": {},
   "outputs": [],
   "source": [
    "from sklearn.preprocessing import StandardScaler\n",
    "X_s = StandardScaler()\n",
    "X_escalada=  X_s.fit_transform(X.values)"
   ]
  },
  {
   "cell_type": "code",
   "execution_count": 5,
   "metadata": {
    "scrolled": true
   },
   "outputs": [
    {
     "name": "stderr",
     "output_type": "stream",
     "text": [
      "f:\\python\\python37_64\\lib\\site-packages\\ipykernel_launcher.py:3: SettingWithCopyWarning: \n",
      "A value is trying to be set on a copy of a slice from a DataFrame.\n",
      "Try using .loc[row_indexer,col_indexer] = value instead\n",
      "\n",
      "See the caveats in the documentation: https://pandas.pydata.org/pandas-docs/stable/user_guide/indexing.html#returning-a-view-versus-a-copy\n",
      "  This is separate from the ipykernel package so we can avoid doing imports until\n"
     ]
    }
   ],
   "source": [
    "from sklearn import preprocessing\n",
    "Encoder = preprocessing.LabelEncoder()\n",
    "Y['fuelType']=Encoder.fit_transform(Y['fuelType']).reshape(-1,1)\n"
   ]
  },
  {
   "cell_type": "code",
   "execution_count": 40,
   "metadata": {},
   "outputs": [
    {
     "name": "stdout",
     "output_type": "stream",
     "text": [
      "(1057117, 283) (264280, 283)\n",
      "(1057117, 1) (264280, 1)\n"
     ]
    }
   ],
   "source": [
    "_conjunto_de_train_X,_conjunto_de_test_X,_conjunto_de_train_Y,_conjunto_de_test_Y=train_test_split(X_escalada,Y,test_size=0.2,random_state=128)#conjunto_X_de20000,conjunto_Y_de20000\n",
    "print(_conjunto_de_train_X.shape,_conjunto_de_test_X.shape)\n",
    "print(_conjunto_de_train_Y.shape,_conjunto_de_test_Y.shape)"
   ]
  },
  {
   "cell_type": "code",
   "execution_count": null,
   "metadata": {},
   "outputs": [],
   "source": [
    "from sklearn.model_selection import KFold, StratifiedKFold\n",
    "print(datetime.now())\n",
    "fold= KFold(n_splits=5, shuffle=True, random_state=127)\n",
    "print(datetime.now())"
   ]
  },
  {
   "cell_type": "code",
   "execution_count": 13,
   "metadata": {},
   "outputs": [
    {
     "name": "stdout",
     "output_type": "stream",
     "text": [
      "2020-08-25 19:07:34.034387\n"
     ]
    },
    {
     "name": "stderr",
     "output_type": "stream",
     "text": [
      "f:\\python\\python37_64\\lib\\site-packages\\sklearn\\svm\\_base.py:231: ConvergenceWarning: Solver terminated early (max_iter=1000).  Consider pre-processing your data with StandardScaler or MinMaxScaler.\n",
      "  % self.max_iter, ConvergenceWarning)\n"
     ]
    },
    {
     "name": "stdout",
     "output_type": "stream",
     "text": [
      "2020-08-25 19:15:30.689366\n"
     ]
    },
    {
     "name": "stderr",
     "output_type": "stream",
     "text": [
      "f:\\python\\python37_64\\lib\\site-packages\\sklearn\\svm\\_base.py:231: ConvergenceWarning: Solver terminated early (max_iter=1000).  Consider pre-processing your data with StandardScaler or MinMaxScaler.\n",
      "  % self.max_iter, ConvergenceWarning)\n"
     ]
    },
    {
     "name": "stdout",
     "output_type": "stream",
     "text": [
      "2020-08-25 19:23:35.671993\n"
     ]
    },
    {
     "name": "stderr",
     "output_type": "stream",
     "text": [
      "f:\\python\\python37_64\\lib\\site-packages\\sklearn\\svm\\_base.py:231: ConvergenceWarning: Solver terminated early (max_iter=1000).  Consider pre-processing your data with StandardScaler or MinMaxScaler.\n",
      "  % self.max_iter, ConvergenceWarning)\n"
     ]
    },
    {
     "name": "stdout",
     "output_type": "stream",
     "text": [
      "2020-08-25 19:31:38.514616\n"
     ]
    },
    {
     "name": "stderr",
     "output_type": "stream",
     "text": [
      "f:\\python\\python37_64\\lib\\site-packages\\sklearn\\svm\\_base.py:231: ConvergenceWarning: Solver terminated early (max_iter=1000).  Consider pre-processing your data with StandardScaler or MinMaxScaler.\n",
      "  % self.max_iter, ConvergenceWarning)\n"
     ]
    },
    {
     "name": "stdout",
     "output_type": "stream",
     "text": [
      "2020-08-25 19:39:40.245277\n"
     ]
    },
    {
     "name": "stderr",
     "output_type": "stream",
     "text": [
      "f:\\python\\python37_64\\lib\\site-packages\\sklearn\\svm\\_base.py:231: ConvergenceWarning: Solver terminated early (max_iter=1000).  Consider pre-processing your data with StandardScaler or MinMaxScaler.\n",
      "  % self.max_iter, ConvergenceWarning)\n"
     ]
    },
    {
     "name": "stdout",
     "output_type": "stream",
     "text": [
      "2020-08-25 19:47:53.243609\n"
     ]
    }
   ],
   "source": [
    "from sklearn.model_selection import KFold, StratifiedKFold\n",
    "from sklearn.metrics import accuracy_score\n",
    "from joblib import dump\n",
    "from sklearn.svm import SVC\n",
    "print(datetime.now())\n",
    "row_SVM={\"MODEL\":\"SVR\",\"C\":100,\"Epsilon\":0.1,\"Kernel\":\"linear\",\"R2_fold1\":0.0,\"R2_fold2\":0.0,\"R2_fold3\":0.0,\"R2_fold4\":0.0,\"R2_fold5\":0.0}\n",
    "SVC =  SVC(max_iter=1000)\n",
    "i=1\n",
    "for train_index, test_index in fold.split(_conjunto_de_train_X,_conjunto_de_train_Y):\n",
    "    X_train = _conjunto_de_train_X[train_index]\n",
    "    X_test = _conjunto_de_train_X[test_index]\n",
    "    y_train = _conjunto_de_train_Y[\"fuelType\"].iloc[train_index].values\n",
    "    y_test = _conjunto_de_train_Y[\"fuelType\"].iloc[test_index].values\n",
    "    SVC.fit(X_train, y_train)\n",
    "    row_SVM[\"R2_fold\"+str(i)] = accuracy_score(y_test, SVC.predict(X_test))\n",
    "    print(datetime.now())\n",
    "    i += 1"
   ]
  },
  {
   "cell_type": "code",
   "execution_count": 17,
   "metadata": {},
   "outputs": [],
   "source": [
    "from sklearn.metrics import confusion_matrix\n",
    "\n",
    "Vector_entrenamiento=SVC.predict(_conjunto_de_train_X)\n",
    "Vector_prueba=SVC.predict(_conjunto_de_test_X)\n",
    "matriz_entrenamiento=confusion_matrix(_conjunto_de_train_Y[\"fuelType\"].values, Vector_entrenamiento)\n",
    "matriz_prueba=confusion_matrix(_conjunto_de_test_Y[\"fuelType\"].values, Vector_prueba)\n",
    "matriz_prueba=matriz_prueba.ravel()\n",
    "matriz_entrenamiento=matriz_entrenamiento.ravel()\n",
    "tn, fp, fn, tp\n",
    "\n",
    "\n",
    "\n"
   ]
  },
  {
   "cell_type": "code",
   "execution_count": 62,
   "metadata": {},
   "outputs": [
    {
     "data": {
      "text/plain": [
       "array([425699,      0,      0, 631418], dtype=int64)"
      ]
     },
     "execution_count": 62,
     "metadata": {},
     "output_type": "execute_result"
    }
   ],
   "source": [
    "matriz_entrenamiento"
   ]
  },
  {
   "cell_type": "code",
   "execution_count": 27,
   "metadata": {},
   "outputs": [
    {
     "name": "stdout",
     "output_type": "stream",
     "text": [
      "entrenamiento\n",
      "precision: 100.0\n",
      "Sensibilidad: 100.0\n",
      "Especificidad: 100.0\n",
      "VPP: 100.0 VPN 100.0 MCC 1.0\n",
      "test\n",
      "precision: 100.0\n",
      "Sensibilidad: 100.0\n",
      "Especificidad: 100.0\n",
      "VPP: 100.0 VPN 100.0 MCC 1.0\n"
     ]
    }
   ],
   "source": [
    "def metricas_clasificador(tn,fp,fn,tp,Tipo=\"entrenamiento\"):\n",
    "    Precision= 0.0+((tp+tn)/(tp+tn+fp+fn))*100\n",
    "    Sensibilidad= 0.0+((tp)/(tp+fn))*100\n",
    "    Especificidad= ((tn)/(tn+fp))*100\n",
    "    VPP= ((tp)/(tp+fp))*100\n",
    "    VPN= ((tn)/(tn+fn))*100\n",
    "    MCC_1=np.float32(tp*tn-fp*fn)\n",
    "    MCC_2 =np.float32(tp+fn)*np.float32(tp+fp)*np.float32(tn+fp)*np.float32(tn+fn)\n",
    "    MCC=MCC_1/np.sqrt(MCC_2)\n",
    "    print(Tipo)\n",
    "    print(\"precision:\",Precision)\n",
    "    print(\"Sensibilidad:\",Sensibilidad)\n",
    "    print(\"Especificidad:\",Especificidad)\n",
    "    print(\"VPP:\",VPP,\"VPN\",VPN,\"MCC\",MCC)\n",
    "\n",
    "matriz_prueba=matriz_prueba.ravel()\n",
    "matriz_entrenamiento=matriz_entrenamiento.ravel()\n",
    "metricas_clasificador(matriz_entrenamiento[0],matriz_entrenamiento[1],matriz_entrenamiento[2],matriz_entrenamiento[3],\"entrenamiento\")\n",
    "metricas_clasificador(matriz_prueba[0],matriz_prueba[1],matriz_prueba[2],matriz_prueba[3],\"test\")"
   ]
  },
  {
   "cell_type": "code",
   "execution_count": 19,
   "metadata": {},
   "outputs": [
    {
     "data": {
      "text/plain": [
       "['SVM_sin_ajuste.model']"
      ]
     },
     "execution_count": 19,
     "metadata": {},
     "output_type": "execute_result"
    }
   ],
   "source": [
    "joblib.dump(SVC,\"SVM_sin_ajuste.model\")"
   ]
  },
  {
   "cell_type": "code",
   "execution_count": 7,
   "metadata": {},
   "outputs": [
    {
     "name": "stdout",
     "output_type": "stream",
     "text": [
      "2020-08-26 08:46:33.562092\n",
      "2020-08-26 08:46:33.562092\n",
      "2020-08-26 14:16:09.801766\n",
      "Optimal number of features : 1\n"
     ]
    }
   ],
   "source": [
    "from sklearn.feature_selection import RFECV\n",
    "y = np.array(Y['fuelType'].values)\n",
    "y = y.ravel()\n",
    "_conjunto_de_train_X,_conjunto_de_test_X,_conjunto_de_train_Y,_conjunto_de_test_Y=train_test_split(X_escalada,y,test_size=0.2,random_state=128)\n",
    "svc=SVC(kernel=\"linear\", max_iter = 1000) \n",
    "print(datetime.now())\n",
    "rfecv = RFECV(estimator=svc, step=1, cv=2,scoring='accuracy',n_jobs=1)\n",
    "print(datetime.now())\n",
    "rfecv.fit(_conjunto_de_train_X, _conjunto_de_train_Y)\n",
    "print(datetime.now())\n",
    "print(\"Optimal number of features : %d\" % rfecv.n_features_)"
   ]
  },
  {
   "cell_type": "code",
   "execution_count": 8,
   "metadata": {},
   "outputs": [],
   "source": [
    "\"\"\"\n",
    "tenemos que dejarlo corriendo en el SOMA, asi que hasta aqui no mas \n",
    "\"\"\"\n",
    "rfecv = joblib.dump(\"SVC.model\")"
   ]
  },
  {
   "cell_type": "code",
   "execution_count": 24,
   "metadata": {},
   "outputs": [
    {
     "name": "stdout",
     "output_type": "stream",
     "text": [
      "17\n"
     ]
    },
    {
     "data": {
      "text/plain": [
       "['O16']"
      ]
     },
     "execution_count": 24,
     "metadata": {},
     "output_type": "execute_result"
    }
   ],
   "source": [
    "rfecv_features=[]\n",
    "i=0\n",
    "for bool, feature in zip(rfecv.get_support(), X.columns):\n",
    "    if bool:\n",
    "        print(i)\n",
    "        rfecv_features.append(feature)\n",
    "    i+=1\n",
    "rfecv_features"
   ]
  },
  {
   "cell_type": "code",
   "execution_count": 47,
   "metadata": {},
   "outputs": [
    {
     "name": "stdout",
     "output_type": "stream",
     "text": [
      "2020-08-26 14:44:39.727832\n",
      "2020-08-26 14:44:40.224176\n",
      "2020-08-26 14:44:40.739825\n",
      "2020-08-26 14:44:41.254989\n",
      "2020-08-26 14:44:41.759311\n"
     ]
    }
   ],
   "source": [
    "from sklearn.model_selection import KFold, StratifiedKFold\n",
    "from sklearn.metrics import accuracy_score\n",
    "row_SVM={\"MODEL\":\"SVR\",\"C\":100,\"Epsilon\":0.1,\"Kernel\":\"linear\",\"R2_fold1\":0.0,\"R2_fold2\":0.0,\"R2_fold3\":0.0,\"R2_fold4\":0.0,\"R2_fold5\":0.0}\n",
    "SVC_ajustado =  SVC(max_iter=1000)\n",
    "i=1\n",
    "fold_1= KFold(n_splits=5, shuffle=True, random_state=127)\n",
    "for train_index, test_index in fold_1.split(_conjunto_de_train_X,_conjunto_de_train_Y):\n",
    "    X_train = _conjunto_de_train_X[train_index,17]\n",
    "    X_test = _conjunto_de_train_X[test_index,17]\n",
    "    y_train = _conjunto_de_train_Y[\"fuelType\"].iloc[train_index]\n",
    "    y_test = _conjunto_de_train_Y[\"fuelType\"].iloc[test_index]\n",
    "    SVC_ajustado.fit(X_train.reshape(-1, 1), y_train)\n",
    "    row_SVM[\"R2_fold\"+str(i)] = accuracy_score(y_test, SVC_ajustado.predict(X_test.reshape(-1, 1)))\n",
    "    print(datetime.now())\n",
    "    i += 1"
   ]
  },
  {
   "cell_type": "code",
   "execution_count": 48,
   "metadata": {},
   "outputs": [
    {
     "data": {
      "text/plain": [
       "{'MODEL': 'SVR',\n",
       " 'C': 100,\n",
       " 'Epsilon': 0.1,\n",
       " 'Kernel': 'linear',\n",
       " 'R2_fold1': 1.0,\n",
       " 'R2_fold2': 1.0,\n",
       " 'R2_fold3': 1.0,\n",
       " 'R2_fold4': 1.0,\n",
       " 'R2_fold5': 1.0}"
      ]
     },
     "execution_count": 48,
     "metadata": {},
     "output_type": "execute_result"
    }
   ],
   "source": [
    "row_SVM"
   ]
  },
  {
   "cell_type": "code",
   "execution_count": 52,
   "metadata": {},
   "outputs": [],
   "source": [
    "from sklearn.metrics import confusion_matrix\n",
    "Vector_entrenamiento=SVC_ajustado.predict(_conjunto_de_train_X[:,17].reshape(-1, 1))\n",
    "Vector_prueba=SVC_ajustado.predict(_conjunto_de_test_X[:,17].reshape(-1, 1))\n",
    "matriz_entrenamiento=confusion_matrix(_conjunto_de_train_Y[\"fuelType\"].values, Vector_entrenamiento)\n",
    "matriz_prueba=confusion_matrix(_conjunto_de_test_Y[\"fuelType\"].values, Vector_prueba)\n",
    "matriz_prueba=matriz_prueba.ravel()\n",
    "matriz_entrenamiento=matriz_entrenamiento.ravel()"
   ]
  },
  {
   "cell_type": "code",
   "execution_count": 53,
   "metadata": {},
   "outputs": [
    {
     "name": "stdout",
     "output_type": "stream",
     "text": [
      "entrenamiento\n",
      "precision: 100.0\n",
      "Sensibilidad: 100.0\n",
      "Especificidad: 100.0\n",
      "VPP: 100.0 VPN 100.0 MCC 1.0\n",
      "test\n",
      "precision: 100.0\n",
      "Sensibilidad: 100.0\n",
      "Especificidad: 100.0\n",
      "VPP: 100.0 VPN 100.0 MCC 1.0\n"
     ]
    }
   ],
   "source": [
    "def metricas_clasificador(tn,fp,fn,tp,Tipo=\"entrenamiento\"):\n",
    "    Precision= 0.0+((tp+tn)/(tp+tn+fp+fn))*100\n",
    "    Sensibilidad= 0.0+((tp)/(tp+fn))*100\n",
    "    Especificidad= ((tn)/(tn+fp))*100\n",
    "    VPP= ((tp)/(tp+fp))*100\n",
    "    VPN= ((tn)/(tn+fn))*100\n",
    "    MCC_1=np.float32(tp*tn-fp*fn)\n",
    "    MCC_2 =np.float32(tp+fn)*np.float32(tp+fp)*np.float32(tn+fp)*np.float32(tn+fn)\n",
    "    MCC=MCC_1/np.sqrt(MCC_2)\n",
    "    print(Tipo)\n",
    "    print(\"precision:\",Precision)\n",
    "    print(\"Sensibilidad:\",Sensibilidad)\n",
    "    print(\"Especificidad:\",Especificidad)\n",
    "    print(\"VPP:\",VPP,\"VPN\",VPN,\"MCC\",MCC)\n",
    "\n",
    "matriz_prueba=matriz_prueba.ravel()\n",
    "matriz_entrenamiento=matriz_entrenamiento.ravel()\n",
    "metricas_clasificador(matriz_entrenamiento[0],matriz_entrenamiento[1],matriz_entrenamiento[2],matriz_entrenamiento[3],\"entrenamiento\")\n",
    "metricas_clasificador(matriz_prueba[0],matriz_prueba[1],matriz_prueba[2],matriz_prueba[3],\"test\")"
   ]
  },
  {
   "cell_type": "code",
   "execution_count": 54,
   "metadata": {},
   "outputs": [
    {
     "data": {
      "text/plain": [
       "array([425699,      0,      0, 631418], dtype=int64)"
      ]
     },
     "execution_count": 54,
     "metadata": {},
     "output_type": "execute_result"
    }
   ],
   "source": [
    "matriz_entrenamiento"
   ]
  },
  {
   "cell_type": "code",
   "execution_count": 60,
   "metadata": {},
   "outputs": [
    {
     "data": {
      "text/plain": [
       "array([0, 1], dtype=int64)"
      ]
     },
     "execution_count": 60,
     "metadata": {},
     "output_type": "execute_result"
    }
   ],
   "source": [
    "Encoder.fit_transform(list(Encoder.classes_))"
   ]
  },
  {
   "cell_type": "code",
   "execution_count": 61,
   "metadata": {},
   "outputs": [
    {
     "data": {
      "text/plain": [
       "['MOX', 'UOX']"
      ]
     },
     "execution_count": 61,
     "metadata": {},
     "output_type": "execute_result"
    }
   ],
   "source": [
    "list(Encoder.classes_)"
   ]
  },
  {
   "cell_type": "code",
   "execution_count": 64,
   "metadata": {},
   "outputs": [
    {
     "data": {
      "text/plain": [
       "['SVM_selecciondeatributos_016_TypeFuel_2608.model']"
      ]
     },
     "execution_count": 64,
     "metadata": {},
     "output_type": "execute_result"
    }
   ],
   "source": [
    "joblib.dump(SVC,  'SVM_TypeFuel_2608.model')\n",
    "joblib.dump(SVC_ajustado,  'SVM_selecciondeatributos_016_TypeFuel_2608.model')"
   ]
  },
  {
   "cell_type": "code",
   "execution_count": null,
   "metadata": {},
   "outputs": [],
   "source": []
  }
 ],
 "metadata": {
  "kernelspec": {
   "display_name": "Python 3",
   "language": "python",
   "name": "python3"
  },
  "language_info": {
   "codemirror_mode": {
    "name": "ipython",
    "version": 3
   },
   "file_extension": ".py",
   "mimetype": "text/x-python",
   "name": "python",
   "nbconvert_exporter": "python",
   "pygments_lexer": "ipython3",
   "version": "3.7.7rc1"
  }
 },
 "nbformat": 4,
 "nbformat_minor": 4
}
